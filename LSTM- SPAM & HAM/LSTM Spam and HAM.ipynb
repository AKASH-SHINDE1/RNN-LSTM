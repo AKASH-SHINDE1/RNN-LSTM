{
 "cells": [
  {
   "cell_type": "markdown",
   "id": "bee758b1",
   "metadata": {},
   "source": [
    "# HAM AND SPAM"
   ]
  },
  {
   "cell_type": "code",
   "execution_count": 108,
   "id": "c76b18d1",
   "metadata": {},
   "outputs": [],
   "source": [
    "import pandas as pd\n",
    "import numpy as np\n",
    "import matplotlib.pyplot as plt\n",
    "import os\n",
    "import sys\n",
    "import tensorflow as tf\n",
    "import keras.models\n",
    "from keras.layers import Conv2D , MaxPool2D , Flatten , Dense , Dropout\n",
    "\n",
    "from keras.layers import SimpleRNN , GRU , LSTM , Embedding\n",
    "from keras.models import Model , Sequential\n",
    "from PIL import Image \n",
    "from keras.layers import GlobalAveragePooling2D , BatchNormalization\n",
    "from tensorflow.keras.utils import to_categorical"
   ]
  },
  {
   "cell_type": "code",
   "execution_count": 109,
   "id": "672cd085",
   "metadata": {},
   "outputs": [
    {
     "data": {
      "text/plain": [
       "(6776, 5)"
      ]
     },
     "execution_count": 109,
     "metadata": {},
     "output_type": "execute_result"
    }
   ],
   "source": [
    "# Read the File\n",
    "messages  = pd.read_csv(r\"E:\\PGA $$ 23 $$\\Deep Learning\\New folder\\spam1.csv\",encoding ='cp1252')\n",
    "messages.shape"
   ]
  },
  {
   "cell_type": "code",
   "execution_count": 110,
   "id": "f874a127",
   "metadata": {},
   "outputs": [
    {
     "data": {
      "text/html": [
       "<div>\n",
       "<style scoped>\n",
       "    .dataframe tbody tr th:only-of-type {\n",
       "        vertical-align: middle;\n",
       "    }\n",
       "\n",
       "    .dataframe tbody tr th {\n",
       "        vertical-align: top;\n",
       "    }\n",
       "\n",
       "    .dataframe thead th {\n",
       "        text-align: right;\n",
       "    }\n",
       "</style>\n",
       "<table border=\"1\" class=\"dataframe\">\n",
       "  <thead>\n",
       "    <tr style=\"text-align: right;\">\n",
       "      <th></th>\n",
       "      <th>v1</th>\n",
       "      <th>v2</th>\n",
       "    </tr>\n",
       "  </thead>\n",
       "  <tbody>\n",
       "    <tr>\n",
       "      <th>0</th>\n",
       "      <td>ham</td>\n",
       "      <td>Go until jurong point, crazy.. Available only ...</td>\n",
       "    </tr>\n",
       "    <tr>\n",
       "      <th>1</th>\n",
       "      <td>ham</td>\n",
       "      <td>Ok lar... Joking wif u oni...</td>\n",
       "    </tr>\n",
       "    <tr>\n",
       "      <th>2</th>\n",
       "      <td>spam</td>\n",
       "      <td>Free entry in 2 a wkly comp to win FA Cup fina...</td>\n",
       "    </tr>\n",
       "    <tr>\n",
       "      <th>3</th>\n",
       "      <td>ham</td>\n",
       "      <td>U dun say so early hor... U c already then say...</td>\n",
       "    </tr>\n",
       "    <tr>\n",
       "      <th>4</th>\n",
       "      <td>ham</td>\n",
       "      <td>Nah I don't think he goes to usf, he lives aro...</td>\n",
       "    </tr>\n",
       "  </tbody>\n",
       "</table>\n",
       "</div>"
      ],
      "text/plain": [
       "     v1                                                 v2\n",
       "0   ham  Go until jurong point, crazy.. Available only ...\n",
       "1   ham                      Ok lar... Joking wif u oni...\n",
       "2  spam  Free entry in 2 a wkly comp to win FA Cup fina...\n",
       "3   ham  U dun say so early hor... U c already then say...\n",
       "4   ham  Nah I don't think he goes to usf, he lives aro..."
      ]
     },
     "execution_count": 110,
     "metadata": {},
     "output_type": "execute_result"
    }
   ],
   "source": [
    "messages = messages.iloc[: ,[0,1]]\n",
    "messages.head()"
   ]
  },
  {
   "cell_type": "code",
   "execution_count": 111,
   "id": "5e620e6c",
   "metadata": {},
   "outputs": [
    {
     "data": {
      "text/html": [
       "<div>\n",
       "<style scoped>\n",
       "    .dataframe tbody tr th:only-of-type {\n",
       "        vertical-align: middle;\n",
       "    }\n",
       "\n",
       "    .dataframe tbody tr th {\n",
       "        vertical-align: top;\n",
       "    }\n",
       "\n",
       "    .dataframe thead th {\n",
       "        text-align: right;\n",
       "    }\n",
       "</style>\n",
       "<table border=\"1\" class=\"dataframe\">\n",
       "  <thead>\n",
       "    <tr style=\"text-align: right;\">\n",
       "      <th></th>\n",
       "      <th>Label</th>\n",
       "      <th>Message</th>\n",
       "    </tr>\n",
       "  </thead>\n",
       "  <tbody>\n",
       "    <tr>\n",
       "      <th>0</th>\n",
       "      <td>ham</td>\n",
       "      <td>Go until jurong point, crazy.. Available only ...</td>\n",
       "    </tr>\n",
       "    <tr>\n",
       "      <th>1</th>\n",
       "      <td>ham</td>\n",
       "      <td>Ok lar... Joking wif u oni...</td>\n",
       "    </tr>\n",
       "    <tr>\n",
       "      <th>2</th>\n",
       "      <td>spam</td>\n",
       "      <td>Free entry in 2 a wkly comp to win FA Cup fina...</td>\n",
       "    </tr>\n",
       "    <tr>\n",
       "      <th>3</th>\n",
       "      <td>ham</td>\n",
       "      <td>U dun say so early hor... U c already then say...</td>\n",
       "    </tr>\n",
       "    <tr>\n",
       "      <th>4</th>\n",
       "      <td>ham</td>\n",
       "      <td>Nah I don't think he goes to usf, he lives aro...</td>\n",
       "    </tr>\n",
       "  </tbody>\n",
       "</table>\n",
       "</div>"
      ],
      "text/plain": [
       "  Label                                            Message\n",
       "0   ham  Go until jurong point, crazy.. Available only ...\n",
       "1   ham                      Ok lar... Joking wif u oni...\n",
       "2  spam  Free entry in 2 a wkly comp to win FA Cup fina...\n",
       "3   ham  U dun say so early hor... U c already then say...\n",
       "4   ham  Nah I don't think he goes to usf, he lives aro..."
      ]
     },
     "execution_count": 111,
     "metadata": {},
     "output_type": "execute_result"
    }
   ],
   "source": [
    "messages.rename(columns={'v1':'Label',\"v2\":'Message'},inplace = True)\n",
    "messages.head()"
   ]
  },
  {
   "cell_type": "code",
   "execution_count": 112,
   "id": "547f5bb5",
   "metadata": {},
   "outputs": [],
   "source": [
    "messages.Label.replace({\"ham\":1,\"spam\":0},inplace = True)\n"
   ]
  },
  {
   "cell_type": "code",
   "execution_count": 113,
   "id": "146065c7",
   "metadata": {},
   "outputs": [],
   "source": [
    "# SAMPLING INTO TRAIN TEST\n",
    "messages_x = messages.iloc[: , 1]\n",
    "messages_y = messages.iloc[: ,0]\n",
    "from sklearn.model_selection import train_test_split\n",
    "x_train ,x_test ,y_train ,y_test= train_test_split(messages_x , messages_y , test_size = .2)"
   ]
  },
  {
   "cell_type": "code",
   "execution_count": 114,
   "id": "369f9a67",
   "metadata": {},
   "outputs": [
    {
     "name": "stdout",
     "output_type": "stream",
     "text": [
      "(5420,)\n",
      "(5420,)\n",
      "-----------\n",
      "(1356,)\n",
      "(1356,)\n"
     ]
    }
   ],
   "source": [
    "# Checking the records to match the records in train and test\n",
    "print(x_train.shape)\n",
    "print(y_train.shape)\n",
    "print(\"-----------\")\n",
    "print(x_test.shape)\n",
    "print(y_test.shape)\n"
   ]
  },
  {
   "cell_type": "code",
   "execution_count": 115,
   "id": "40c3792b",
   "metadata": {},
   "outputs": [],
   "source": [
    "## Coverting into categorical\n",
    "y_train = to_categorical(y_train)\n",
    "y_test = to_categorical(y_test)"
   ]
  },
  {
   "cell_type": "code",
   "execution_count": 116,
   "id": "3be6b13c",
   "metadata": {},
   "outputs": [
    {
     "name": "stdout",
     "output_type": "stream",
     "text": [
      "(5420, 2)\n",
      "(1356, 2)\n"
     ]
    }
   ],
   "source": [
    "print(y_train.shape)\n",
    "print(y_test.shape)"
   ]
  },
  {
   "cell_type": "code",
   "execution_count": 117,
   "id": "8c4c7d32",
   "metadata": {},
   "outputs": [],
   "source": [
    "# APPLYING SOME HYPERPARAMETER\n",
    "max_num_words = 10000  ## how many words do we consider from the entire CORPUS\n",
    "seq_len = 50 ## how many tokens(words to consider in each documents / message)\n",
    "embedding_size = 100  ## vector length of each words\n",
    "\n",
    "from keras.preprocessing.text import Tokenizer # is used to assign id to each unique words(tokenization)\n",
    "from keras.preprocessing.sequence import pad_sequences # used to bring all samples to same length"
   ]
  },
  {
   "cell_type": "code",
   "execution_count": 118,
   "id": "e9439f8e",
   "metadata": {},
   "outputs": [],
   "source": [
    "tokenizer = Tokenizer(num_words = max_num_words)\n",
    "tokenizer.fit_on_texts(messages.Message)\n",
    "x_train = tokenizer.texts_to_sequences(x_train) # will convert the text to sequences of IDs\n",
    "x_train = pad_sequences(x_train , maxlen = seq_len)\n",
    "\n",
    "x_test = tokenizer.texts_to_sequences(x_test) # will convert the text to sequences of IDs\n",
    "x_test = pad_sequences(x_test , maxlen = seq_len)\n",
    "\n",
    "model = Sequential()   # initialize the network\n",
    "model.add(Embedding(input_dim = max_num_words , \n",
    "                   input_length =seq_len  , output_dim = embedding_size))"
   ]
  },
  {
   "cell_type": "code",
   "execution_count": 119,
   "id": "580791f4",
   "metadata": {},
   "outputs": [
    {
     "name": "stdout",
     "output_type": "stream",
     "text": [
      "Epoch 1/5\n",
      "136/136 [==============================] - 8s 41ms/step - loss: 0.2455 - accuracy: 0.9197 - val_loss: 0.0888 - val_accuracy: 0.9843\n",
      "Epoch 2/5\n",
      "136/136 [==============================] - 5s 35ms/step - loss: 0.0522 - accuracy: 0.9910 - val_loss: 0.0554 - val_accuracy: 0.9908\n",
      "Epoch 3/5\n",
      "136/136 [==============================] - 5s 40ms/step - loss: 0.0210 - accuracy: 0.9977 - val_loss: 0.0462 - val_accuracy: 0.9917\n",
      "Epoch 4/5\n",
      "136/136 [==============================] - 5s 40ms/step - loss: 0.0100 - accuracy: 0.9991 - val_loss: 0.0460 - val_accuracy: 0.9899\n",
      "Epoch 5/5\n",
      "136/136 [==============================] - 5s 34ms/step - loss: 0.0051 - accuracy: 1.0000 - val_loss: 0.0456 - val_accuracy: 0.9899\n"
     ]
    },
    {
     "data": {
      "text/plain": [
       "<keras.callbacks.History at 0x1f08176e8b0>"
      ]
     },
     "execution_count": 119,
     "metadata": {},
     "output_type": "execute_result"
    }
   ],
   "source": [
    "model.add(LSTM(5))\n",
    "model.add(Dense(2 , activation = 'softmax'))\n",
    "model.compile(optimizer ='adam' , loss = 'categorical_crossentropy',metrics=['accuracy'])\n",
    "\n",
    "model.fit(x_train , y_train , epochs=5 ,batch_size = 32 , validation_split = .2)"
   ]
  },
  {
   "cell_type": "code",
   "execution_count": null,
   "id": "55c9b3e0",
   "metadata": {},
   "outputs": [],
   "source": []
  },
  {
   "cell_type": "code",
   "execution_count": 120,
   "id": "449fb47d",
   "metadata": {},
   "outputs": [
    {
     "data": {
      "text/plain": [
       "array([[ 194,    0],\n",
       "       [  12, 1150]], dtype=int64)"
      ]
     },
     "execution_count": 120,
     "metadata": {},
     "output_type": "execute_result"
    }
   ],
   "source": [
    "pred= model.predict(x_test)\n",
    "from sklearn.metrics import confusion_matrix\n",
    "tab = confusion_matrix(np.argmax(pred,1),np.argmax(y_test ,axis =1))\n",
    "tab"
   ]
  },
  {
   "cell_type": "code",
   "execution_count": 121,
   "id": "5235a57c",
   "metadata": {},
   "outputs": [
    {
     "data": {
      "text/plain": [
       "0.9911504424778761"
      ]
     },
     "execution_count": 121,
     "metadata": {},
     "output_type": "execute_result"
    }
   ],
   "source": [
    "from sklearn.metrics import accuracy_score\n",
    "acc = accuracy_score(np.argmax(pred,1),np.argmax(y_test,1))\n",
    "acc"
   ]
  },
  {
   "cell_type": "code",
   "execution_count": null,
   "id": "a54af662",
   "metadata": {},
   "outputs": [],
   "source": []
  }
 ],
 "metadata": {
  "kernelspec": {
   "display_name": "Python 3",
   "language": "python",
   "name": "python3"
  },
  "language_info": {
   "codemirror_mode": {
    "name": "ipython",
    "version": 3
   },
   "file_extension": ".py",
   "mimetype": "text/x-python",
   "name": "python",
   "nbconvert_exporter": "python",
   "pygments_lexer": "ipython3",
   "version": "3.8.8"
  }
 },
 "nbformat": 4,
 "nbformat_minor": 5
}
